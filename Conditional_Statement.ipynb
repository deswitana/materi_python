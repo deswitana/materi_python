{
  "nbformat": 4,
  "nbformat_minor": 0,
  "metadata": {
    "colab": {
      "provenance": [],
      "toc_visible": true,
      "include_colab_link": true
    },
    "kernelspec": {
      "name": "python3",
      "display_name": "Python 3"
    },
    "language_info": {
      "name": "python"
    }
  },
  "cells": [
    {
      "cell_type": "markdown",
      "metadata": {
        "id": "view-in-github",
        "colab_type": "text"
      },
      "source": [
        "<a href=\"https://colab.research.google.com/github/deswitana/materi_python/blob/main/Conditional_Statement.ipynb\" target=\"_parent\"><img src=\"https://colab.research.google.com/assets/colab-badge.svg\" alt=\"Open In Colab\"/></a>"
      ]
    },
    {
      "cell_type": "markdown",
      "source": [
        "**@create By : Dede Brahma Arianto S.Kom., M.Kom**"
      ],
      "metadata": {
        "id": "myqh9AIUeAwo"
      }
    },
    {
      "cell_type": "markdown",
      "source": [
        "# Conditional Statement"
      ],
      "metadata": {
        "id": "XJ2tDlS5e4Fi"
      }
    },
    {
      "cell_type": "markdown",
      "source": [
        "## Operator Perbandingan"
      ],
      "metadata": {
        "id": "AyDTmgfAfEsH"
      }
    },
    {
      "cell_type": "code",
      "execution_count": null,
      "metadata": {
        "colab": {
          "base_uri": "https://localhost:8080/"
        },
        "id": "7-CRjhyXe1Pz",
        "outputId": "c78ead23-3843-45c1-b7d1-6bf30f5f0886"
      },
      "outputs": [
        {
          "output_type": "stream",
          "name": "stdout",
          "text": [
            "Apakah sama ? False\n"
          ]
        }
      ],
      "source": [
        "#@title Kesamaan\n",
        "\n",
        "angka1 = 10\n",
        "angka2 = 5\n",
        "\n",
        "sama = angka1 == angka2\n",
        "\n",
        "print(\"Apakah sama ?\", sama)"
      ]
    },
    {
      "cell_type": "code",
      "source": [
        "#@title Tidak Sama\n",
        "\n",
        "angka1 = 10\n",
        "angka2 = 5\n",
        "\n",
        "tidak_sama = angka1 != angka2\n",
        "\n",
        "print(\"Apakah tidak sama ?\", tidak_sama)"
      ],
      "metadata": {
        "colab": {
          "base_uri": "https://localhost:8080/"
        },
        "id": "-20BhTA8fr2L",
        "outputId": "6594731b-916c-4291-d44c-4dcb15f22897"
      },
      "execution_count": null,
      "outputs": [
        {
          "output_type": "stream",
          "name": "stdout",
          "text": [
            "Apakah tidak sama ? True\n"
          ]
        }
      ]
    },
    {
      "cell_type": "code",
      "source": [
        "#@title Lebih Besar\n",
        "\n",
        "angka1 = 10\n",
        "angka2 = 5\n",
        "\n",
        "lebih_besar = angka1 > angka2\n",
        "\n",
        "print(\"Apakah lebih besar ?\", lebih_besar)"
      ],
      "metadata": {
        "colab": {
          "base_uri": "https://localhost:8080/"
        },
        "id": "HuZUbsNQf4ex",
        "outputId": "3ee1f2e8-d7b2-4797-bc2e-4881dcfd59c6"
      },
      "execution_count": null,
      "outputs": [
        {
          "output_type": "stream",
          "name": "stdout",
          "text": [
            "Apakah lebih besar ? True\n"
          ]
        }
      ]
    },
    {
      "cell_type": "code",
      "source": [
        "#@title Lebih Kecil\n",
        "\n",
        "angka1 = 10\n",
        "angka2 = 5\n",
        "\n",
        "lebih_kecil = angka1 < angka2\n",
        "\n",
        "print(\"Apakah lebih kecil ?\", lebih_kecil)"
      ],
      "metadata": {
        "colab": {
          "base_uri": "https://localhost:8080/"
        },
        "id": "B-qwVcK_gEJU",
        "outputId": "6b3a22e5-6aaa-43a5-b4e0-bb4873c881fd"
      },
      "execution_count": null,
      "outputs": [
        {
          "output_type": "stream",
          "name": "stdout",
          "text": [
            "Apakah lebih kecil ? False\n"
          ]
        }
      ]
    },
    {
      "cell_type": "code",
      "source": [
        "#@title Lebih Besar Sama Dengan\n",
        "\n",
        "angka1 = 10\n",
        "angka2 = 5\n",
        "\n",
        "lebih_besar_sama_dengan = angka1 >= angka2\n",
        "\n",
        "print(\"Apakah lebih besar atau sama dengan ?\", lebih_besar_sama_dengan)"
      ],
      "metadata": {
        "colab": {
          "base_uri": "https://localhost:8080/"
        },
        "id": "YpQtw7UjgLpE",
        "outputId": "3d2d18b8-85de-416c-dbc2-de6f7b82d601"
      },
      "execution_count": null,
      "outputs": [
        {
          "output_type": "stream",
          "name": "stdout",
          "text": [
            "Apakah lebih besar atau sama dengan ? True\n"
          ]
        }
      ]
    },
    {
      "cell_type": "code",
      "source": [
        "#@title Lebih Kecil Sama Dengan\n",
        "\n",
        "angka1 = 10\n",
        "angka2 = 5\n",
        "\n",
        "lebih_kecil_sama_dengan = angka1 <= angka2\n",
        "\n",
        "print(\"Apakah lebih besar atau sama dengan ?\", lebih_kecil_sama_dengan)"
      ],
      "metadata": {
        "colab": {
          "base_uri": "https://localhost:8080/"
        },
        "id": "BanXaPvjgV-0",
        "outputId": "96f6ae3f-4de0-474f-c5cf-d995cf170b1b"
      },
      "execution_count": null,
      "outputs": [
        {
          "output_type": "stream",
          "name": "stdout",
          "text": [
            "Apakah lebih besar atau sama dengan ? False\n"
          ]
        }
      ]
    },
    {
      "cell_type": "markdown",
      "source": [
        "## Operator Logika"
      ],
      "metadata": {
        "id": "za1DhAHrglJD"
      }
    },
    {
      "cell_type": "code",
      "source": [
        "#@title AND\n",
        "\n",
        "kondisi1 = True\n",
        "kondisi2 = False\n",
        "\n",
        "logika_and = kondisi1 and kondisi2\n",
        "\n",
        "print(\"Hasil Logika And:\", logika_and)"
      ],
      "metadata": {
        "colab": {
          "base_uri": "https://localhost:8080/"
        },
        "id": "JM9Z7doDgkz1",
        "outputId": "89e8963a-155d-4cbb-e67b-11c699207707"
      },
      "execution_count": null,
      "outputs": [
        {
          "output_type": "stream",
          "name": "stdout",
          "text": [
            "Hasil Logika And: False\n"
          ]
        }
      ]
    },
    {
      "cell_type": "code",
      "source": [
        "#@title OR\n",
        "\n",
        "kondisi1 = False\n",
        "kondisi2 = False\n",
        "\n",
        "logika_or = kondisi1 or kondisi2\n",
        "\n",
        "print(\"Hasil Logika OR:\", logika_or)"
      ],
      "metadata": {
        "colab": {
          "base_uri": "https://localhost:8080/"
        },
        "id": "nG8eyqHIhQCP",
        "outputId": "77284538-8f05-401e-d0b7-8379164b1976"
      },
      "execution_count": null,
      "outputs": [
        {
          "output_type": "stream",
          "name": "stdout",
          "text": [
            "Hasil Logika OR: False\n"
          ]
        }
      ]
    },
    {
      "cell_type": "code",
      "source": [
        "#@title NOT\n",
        "\n",
        "kondisi1 = True\n",
        "kondisi2 = False\n",
        "\n",
        "logika_not_1 = not kondisi1\n",
        "logika_not_2 = not kondisi2\n",
        "\n",
        "print(\"Hasil Logika NOT Kondisi 1:\", logika_not_1)\n",
        "print(\"Hasil Logika NOT Kondisi 2:\", logika_not_2)"
      ],
      "metadata": {
        "colab": {
          "base_uri": "https://localhost:8080/"
        },
        "id": "xXDw1daxhY1m",
        "outputId": "f375d109-4689-453e-da54-4efec1d89d5c"
      },
      "execution_count": null,
      "outputs": [
        {
          "output_type": "stream",
          "name": "stdout",
          "text": [
            "Hasil Logika NOT Kondisi 1: False\n",
            "Hasil Logika NOT Kondisi 2: True\n"
          ]
        }
      ]
    },
    {
      "cell_type": "markdown",
      "source": [
        "## Condition IF"
      ],
      "metadata": {
        "id": "D74TP5OAihzX"
      }
    },
    {
      "cell_type": "code",
      "source": [
        "#@title if\n",
        "\n",
        "bilangan = 6\n",
        "\n",
        "if bilangan > 4:\n",
        "    print(\"Bilangan positif\")"
      ],
      "metadata": {
        "id": "laWXU-XkiWmR",
        "colab": {
          "base_uri": "https://localhost:8080/"
        },
        "outputId": "2339e615-fffe-4c4b-d06c-4167429e5b5a"
      },
      "execution_count": null,
      "outputs": [
        {
          "output_type": "stream",
          "name": "stdout",
          "text": [
            "Bilangan positif\n"
          ]
        }
      ]
    },
    {
      "cell_type": "code",
      "source": [
        "#@title if-else\n",
        "\n",
        "bilangan = 5\n",
        "\n",
        "if bilangan > 0:\n",
        "    print(\"Bilangan positif\")\n",
        "else:\n",
        "    print(\"Bilangan negatif\")"
      ],
      "metadata": {
        "colab": {
          "base_uri": "https://localhost:8080/"
        },
        "id": "ynzuq7THitGc",
        "outputId": "a6cff08a-b228-4fdf-c157-6cbb70c640a1"
      },
      "execution_count": null,
      "outputs": [
        {
          "output_type": "stream",
          "name": "stdout",
          "text": [
            "Bilangan positif\n"
          ]
        }
      ]
    },
    {
      "cell_type": "code",
      "source": [
        "#@title if-elif-else\n",
        "\n",
        "bilangan = 0\n",
        "\n",
        "if bilangan > 0:\n",
        "    print(\"Bilangan positif\")\n",
        "elif bilangan < 0:\n",
        "    print(\"Bilangan negatif\")\n",
        "else:\n",
        "    print(\"Nol\")\n"
      ],
      "metadata": {
        "colab": {
          "base_uri": "https://localhost:8080/"
        },
        "id": "Y3XvBNOriyHb",
        "outputId": "24eb350b-f3e9-425a-b311-82dd633d9792"
      },
      "execution_count": null,
      "outputs": [
        {
          "output_type": "stream",
          "name": "stdout",
          "text": [
            "Nol\n"
          ]
        }
      ]
    },
    {
      "cell_type": "markdown",
      "source": [
        "## Soal 1\n",
        "\n",
        "Buatlah script program memeriksa apakah bilangan yang dimasukkan ganjil atau genap. Jika angka yang dimasukkan bernilai genap, akan muncul output: “Angka bernilai genap”. Namun jika angka yang dimasukkan bernilai ganjil, akan muncul output: “Angka bernilai ganjil”."
      ],
      "metadata": {
        "id": "1_k6bMnAh4mq"
      }
    },
    {
      "cell_type": "code",
      "source": [
        "number = int(input('Masukkan sebuah bilangan : '))\n",
        "if number % 2 == 0:\n",
        "    print('Bilangan genap')\n",
        "else:\n",
        "    print('Bilangan ganjil')"
      ],
      "metadata": {
        "id": "TY4yqZAvEFiz",
        "outputId": "14c164a1-d7cf-48b4-a8e8-f668ab546f20",
        "colab": {
          "base_uri": "https://localhost:8080/"
        }
      },
      "execution_count": null,
      "outputs": [
        {
          "output_type": "stream",
          "name": "stdout",
          "text": [
            "Masukkan sebuah bilangan : 9\n",
            "Bilangan ganjil\n"
          ]
        }
      ]
    },
    {
      "cell_type": "markdown",
      "source": [
        "## Soal 2\n",
        "\n",
        "Buatlah script yang memberikan output sebagai berikut:\n",
        "Jika angka kelipatan 3, beri output “fizz”\n",
        "Jika angka kelipatan 5, beri output “buzz”\n",
        "Jika angka kelipatan 3 dan 5 beri output “fizzbuzz”\n",
        "Selain itu beri output “Nayy”\n"
      ],
      "metadata": {
        "id": "8RSV1ESjjF0k"
      }
    },
    {
      "cell_type": "code",
      "source": [
        "number = int(input('Masukkan sebuah bilangan : '))\n",
        "if number % 3 == 0 and number % 5 == 0:\n",
        "    print('fizzbuzz')\n",
        "elif number % 3 == 0:\n",
        "    print('Fizz')\n",
        "elif number % 5 == 0:\n",
        "    print('buzz')\n",
        "else:\n",
        "    print('Nayy')"
      ],
      "metadata": {
        "id": "ZIcorZVKEI3G",
        "colab": {
          "base_uri": "https://localhost:8080/"
        },
        "outputId": "39118de6-83b6-477e-bcd7-c9c4de85b158"
      },
      "execution_count": null,
      "outputs": [
        {
          "output_type": "stream",
          "name": "stdout",
          "text": [
            "Masukkan sebuah bilangan : 88\n",
            "Nayy\n"
          ]
        }
      ]
    },
    {
      "cell_type": "markdown",
      "source": [
        "## Soal 3\n",
        "\n",
        "Buat contoh dari :\n",
        "* Operator perbandingan\n",
        "* Operator Logika\n",
        "* Operator Condition"
      ],
      "metadata": {
        "id": "dhLO_DxGWEpi"
      }
    },
    {
      "cell_type": "code",
      "source": [
        "print('Perbandingan')\n",
        "number1 = int(input('Masukkan bilangan pertama : '))\n",
        "number2 = int(input('Masukkan bilangan kedua : '))\n",
        "lessThan = number1 < number2;\n",
        "moreThan = number1 > number2;\n",
        "equals = number1 == number2;\n",
        "print('Lebih kecil ?', lessThan)\n",
        "print('Lebih besar ?', moreThan)\n",
        "print('Sama Dengan ?', equals)\n",
        "print('---------------------------')\n",
        "print('Logika')\n",
        "con1 = True;\n",
        "con2 = False;\n",
        "opAND = con1 and con2\n",
        "opOR = con1 or con2\n",
        "opNOTtrue = not con1\n",
        "opNOTfalse = not con2\n",
        "opNOTfalse = not con2\n",
        "print('True AND False = ', opAND)\n",
        "print('True OR False = ', opOR)\n",
        "print('Not True = ', opNOTtrue)\n",
        "print('Not False = ', opNOTfalse)\n",
        "print('---------------------------')\n",
        "print('Kondisi')\n",
        "num1 = 5\n",
        "num2 = 7\n",
        "if num1 <= num2:\n",
        "    print('Angka 1 kurang dari angka 2')\n",
        "elif num2 >= num1:\n",
        "    print('Angka 2 lebih besar dari angka 1')\n",
        "else:\n",
        "    print('Angka tidak sesuai')"
      ],
      "metadata": {
        "id": "0njOajbUEJ_8",
        "colab": {
          "base_uri": "https://localhost:8080/"
        },
        "outputId": "da8fb771-bfd8-4c25-c5ec-545d3a5f4b5d"
      },
      "execution_count": null,
      "outputs": [
        {
          "output_type": "stream",
          "name": "stdout",
          "text": [
            "Perbandingan\n",
            "Masukkan bilangan pertama : 2\n",
            "Masukkan bilangan kedua : 6\n",
            "Lebih kecil ? True\n",
            "Lebih besar ? False\n",
            "Sama Dengan ? False\n",
            "---------------------------\n",
            "Logika\n",
            "True AND False =  False\n",
            "True OR False =  True\n",
            "Not True =  False\n",
            "Not False =  True\n",
            "---------------------------\n",
            "Kondisi\n",
            "Angka 1 kurang dari angka 2\n"
          ]
        }
      ]
    },
    {
      "cell_type": "markdown",
      "source": [
        "## Soal 4\n",
        "\n",
        "buah = [\"nanas\", \"apel\", \"jeruk\"]\n",
        "\n",
        "buat conditional if dengan loop"
      ],
      "metadata": {
        "id": "Pp_w8r4Aom9S"
      }
    },
    {
      "cell_type": "code",
      "source": [
        "buah = ['nanas', 'apel', 'jeruk']\n",
        "print('mencari buah apel')\n",
        "for  x in range(len(buah)):\n",
        "    if(buah[x] == 'apel'):\n",
        "        print('buah ke '+str(x+1)+' adalah buah apel')\n",
        "    else:\n",
        "        print('buah ke '+str(x+1)+' bukan buah apel')"
      ],
      "metadata": {
        "id": "CwPZUOPqEKlz",
        "colab": {
          "base_uri": "https://localhost:8080/"
        },
        "outputId": "eeeab1ff-ac32-41b1-c529-3dbcfb02b718"
      },
      "execution_count": null,
      "outputs": [
        {
          "output_type": "stream",
          "name": "stdout",
          "text": [
            "mencari buah apel\n",
            "buah ke 1 bukan buah apel\n",
            "buah ke 2 adalah buah apel\n",
            "buah ke 3 bukan buah apel\n"
          ]
        }
      ]
    }
  ]
}