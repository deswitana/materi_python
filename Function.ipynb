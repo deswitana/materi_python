{
  "cells": [
    {
      "cell_type": "markdown",
      "metadata": {
        "id": "EaeYhtq4ePtY"
      },
      "source": [
        "**@create By : Dede Brahma Arianto S.Kom., M.Kom**"
      ]
    },
    {
      "cell_type": "markdown",
      "metadata": {
        "id": "p6zUQtU8GYm1"
      },
      "source": [
        "# Function"
      ]
    },
    {
      "cell_type": "code",
      "execution_count": null,
      "metadata": {
        "id": "qBggfmOYGJL1"
      },
      "outputs": [],
      "source": [
        "#@title fungsi sederhana\n",
        "\n",
        "def coba_fungsi(): #nama fungsi\n",
        "\tprint(\"ini adalah fungsi\") #proses\n"
      ]
    },
    {
      "cell_type": "code",
      "execution_count": null,
      "metadata": {
        "colab": {
          "base_uri": "https://localhost:8080/"
        },
        "id": "qOIFERV8GhZl",
        "outputId": "b3122ac8-b601-4fb1-bd2b-a7b433d77de8"
      },
      "outputs": [
        {
          "name": "stdout",
          "output_type": "stream",
          "text": [
            "ini adalah fungsi\n"
          ]
        }
      ],
      "source": [
        "coba_fungsi()"
      ]
    },
    {
      "cell_type": "code",
      "execution_count": null,
      "metadata": {
        "id": "S2KyWp9YGjqv"
      },
      "outputs": [],
      "source": [
        "#@title fungsi dengan return\n",
        "\n",
        "def coba_fungsi2():\n",
        "\tvar_tes = \"ini adalah fungsi\"\n",
        "\treturn var_tes #membalikan agar bisa digunakan di luar fungsi"
      ]
    },
    {
      "cell_type": "code",
      "execution_count": null,
      "metadata": {
        "colab": {
          "base_uri": "https://localhost:8080/"
        },
        "id": "FPy0q0tzGlFL",
        "outputId": "db4b6253-8683-444e-bc77-667c5cc49246"
      },
      "outputs": [
        {
          "name": "stdout",
          "output_type": "stream",
          "text": [
            "Hasil fungsi adalah:  ini adalah fungsi\n"
          ]
        }
      ],
      "source": [
        "hasil = coba_fungsi2() #variable yang berisi function\n",
        "print(\"Hasil fungsi adalah: \", hasil)\n",
        "\n",
        "# print(\"Hasil fungsi adalah: \", coba_fungsi2())"
      ]
    },
    {
      "cell_type": "code",
      "execution_count": null,
      "metadata": {
        "colab": {
          "base_uri": "https://localhost:8080/"
        },
        "id": "RmtPmuYVGmX5",
        "outputId": "9c3dcec6-4125-434c-8445-d0ddaa928451"
      },
      "outputs": [
        {
          "name": "stdout",
          "output_type": "stream",
          "text": [
            "Hasil 1 :  ini isi variabel 1\n",
            "Hasil 2 :  ini isi variabel 2\n"
          ]
        }
      ],
      "source": [
        "#@title fungsi dengan 2 return\n",
        "\n",
        "def coba_fungsi3():\n",
        "  var_1 = \"ini isi variabel 1\"\n",
        "  var_2 = \"ini isi variabel 2\"\n",
        "  return var_1, var_2\n",
        "\n",
        "hasil1, hasil2 = coba_fungsi3()\n",
        "print(\"Hasil 1 : \", hasil1)\n",
        "print(\"Hasil 2 : \", hasil2)\n",
        "\n",
        "# hasil1 = coba_fungsi3()\n",
        "# print(\"Hasil 1 : \", hasil1)"
      ]
    },
    {
      "cell_type": "code",
      "execution_count": null,
      "metadata": {
        "id": "bTnENICIGn79"
      },
      "outputs": [],
      "source": [
        "#@title fungsi dengan argument\n",
        "\n",
        "def coba_fungsi4(a, b): \n",
        "  var_a = a\n",
        "  var_b = b\n",
        "  var_c = var_a + var_b\n",
        "  return var_c\n",
        "\n",
        "#(a, b) = argument"
      ]
    },
    {
      "cell_type": "code",
      "execution_count": null,
      "metadata": {
        "colab": {
          "base_uri": "https://localhost:8080/"
        },
        "id": "rQ1H1E_AGpCe",
        "outputId": "f622b147-9dd3-4c7c-8e11-b472360b0e66"
      },
      "outputs": [
        {
          "name": "stdout",
          "output_type": "stream",
          "text": [
            "Hasil penjumlahan:  15\n"
          ]
        }
      ],
      "source": [
        "nilai_1 = 5\n",
        "nilai_2 = 10\n",
        "\n",
        "hasil_nilai = coba_fungsi4(nilai_1, nilai_2)\n",
        "print(\"Hasil penjumlahan: \", hasil_nilai)"
      ]
    },
    {
      "cell_type": "code",
      "execution_count": null,
      "metadata": {
        "colab": {
          "base_uri": "https://localhost:8080/"
        },
        "id": "5zggasEgGqY8",
        "outputId": "199ee626-569b-4852-b569-39106c2b4e5d"
      },
      "outputs": [
        {
          "name": "stdout",
          "output_type": "stream",
          "text": [
            "Hasil penjumlahan:  25\n"
          ]
        }
      ],
      "source": [
        "hasil_nilai = coba_fungsi4(20, 5)\n",
        "print(\"Hasil penjumlahan: \", hasil_nilai)"
      ]
    },
    {
      "cell_type": "code",
      "execution_count": 13,
      "metadata": {
        "colab": {
          "base_uri": "https://localhost:8080/"
        },
        "id": "8gbpWc2dGsIl",
        "outputId": "6cc3a720-3c22-4b75-d799-9a9459211968"
      },
      "outputs": [
        {
          "name": "stdout",
          "output_type": "stream",
          "text": [
            "Hasil penjumlahan:  10\n"
          ]
        }
      ],
      "source": [
        "def coba_fungsi4(a, b): \n",
        "  var_a = a\n",
        "  var_b = b\n",
        "  var_c = var_a + var_b\n",
        "  return var_c\n",
        "\n",
        "hasil_nilai = coba_fungsi4(int(input(\"masukkan nilai 1 = \")), int(input(\"masukkan nilai 2= \")))\n",
        "print(\"Hasil penjumlahan: \", hasil_nilai)"
      ]
    },
    {
      "cell_type": "code",
      "execution_count": null,
      "metadata": {
        "colab": {
          "base_uri": "https://localhost:8080/"
        },
        "id": "nIpW8M_yGtmZ",
        "outputId": "4b8dbc73-0058-4aa7-e5f7-dafa87baf0e0"
      },
      "outputs": [
        {
          "name": "stdout",
          "output_type": "stream",
          "text": [
            "Hasil 1 :  20\n",
            "Hasil 2 :  12\n"
          ]
        }
      ],
      "source": [
        "#@title fungsi dengan 2 argument dan 2 return\n",
        "\n",
        "def coba_fungsi5(a, b):\n",
        "  var_a = a * 2\n",
        "  var_b = b * 4\n",
        "  return var_a, var_b\n",
        "\n",
        "hasil1, hasil2 = coba_fungsi5(10, 3)\n",
        "print(\"Hasil 1 : \", hasil1)\n",
        "print(\"Hasil 2 : \", hasil2)"
      ]
    },
    {
      "cell_type": "markdown",
      "metadata": {
        "id": "KPQBC3qWGwHT"
      },
      "source": [
        "### Fungsi dengan *args"
      ]
    },
    {
      "cell_type": "markdown",
      "metadata": {
        "id": "T-xbthUrGxUr"
      },
      "source": [
        "Untuk args menggunakan satu tanda bintang \"*\" Dapat diartikan bahwa def function(*args) akan mengambil seluruh nilai dalam input mengikuti posisi yang sudah ditentukan sebagai variabelnya."
      ]
    },
    {
      "cell_type": "code",
      "execution_count": null,
      "metadata": {
        "id": "ySBjDg2cGzXz"
      },
      "outputs": [],
      "source": [
        "def coba_fungsi6(*args):\n",
        "  print(args)\n",
        "#*args = keseluruhan\n",
        "#* type data tuple, bisa multi type data"
      ]
    },
    {
      "cell_type": "code",
      "execution_count": null,
      "metadata": {
        "colab": {
          "base_uri": "https://localhost:8080/"
        },
        "id": "Z9P2OVKTG3pf",
        "outputId": "d7c8e33d-a449-400e-e9a5-ffd16eb1f680"
      },
      "outputs": [
        {
          "name": "stdout",
          "output_type": "stream",
          "text": [
            "('apple', 'banana', 'cherry', 'semangka')\n"
          ]
        }
      ],
      "source": [
        "coba_fungsi6(\"apple\", \"banana\", \"cherry\", \"semangka\")"
      ]
    },
    {
      "cell_type": "code",
      "execution_count": null,
      "metadata": {
        "colab": {
          "base_uri": "https://localhost:8080/"
        },
        "id": "vOqKgtkrG5XX",
        "outputId": "4c8bcd7d-0c1b-4274-9ed8-fb334df559c8"
      },
      "outputs": [
        {
          "name": "stdout",
          "output_type": "stream",
          "text": [
            "apple\n",
            "banana\n",
            "cherry\n"
          ]
        }
      ],
      "source": [
        "#*args dengan looping\n",
        "def coba_fungsi7(*args):\n",
        "  for item in args:\n",
        "    x = item\n",
        "    print(x)\n",
        "\n",
        "\n",
        "coba_fungsi7(\"apple\", \"banana\", \"cherry\")"
      ]
    },
    {
      "cell_type": "code",
      "execution_count": null,
      "metadata": {
        "colab": {
          "base_uri": "https://localhost:8080/"
        },
        "id": "A4cbF9L7G6mv",
        "outputId": "b7287f0e-90ae-4e84-df4a-8820a69c2668"
      },
      "outputs": [
        {
          "name": "stdout",
          "output_type": "stream",
          "text": [
            "apple\n",
            "banana\n",
            "cherry\n"
          ]
        }
      ],
      "source": [
        "#*args dengan nested looping\n",
        "fruits = [\"apple\", \"banana\", \"cherry\"]\n",
        "\n",
        "def coba_fungsi8(*buah):\n",
        "  for item in buah:\n",
        "    for i in item:\n",
        "      print(i)\n",
        "\n",
        "\n",
        "coba_fungsi8(fruits)\n",
        "\n",
        "#*buah = *args"
      ]
    },
    {
      "cell_type": "markdown",
      "metadata": {
        "id": "DHsUTBdEG8O9"
      },
      "source": [
        "### Fungsi dengan **kwargs"
      ]
    },
    {
      "cell_type": "markdown",
      "metadata": {
        "id": "1Z43mjSlG8yZ"
      },
      "source": [
        "Untuk kargs menggunakan satu tanda bintang \"**\" Dapat diartikan bahwa def function(**kwargs) akan mengambil seluruh nilai dalam key dan valuenya yang ada dalam variabel."
      ]
    },
    {
      "cell_type": "code",
      "execution_count": null,
      "metadata": {
        "id": "mx6iD6AqG-Za"
      },
      "outputs": [],
      "source": [
        "def coba_fungsi9(**kwargs):\n",
        "  print(kwargs)\n",
        "\n",
        "#**kwargs = tipe data dictionary (key,value) "
      ]
    },
    {
      "cell_type": "code",
      "execution_count": null,
      "metadata": {
        "colab": {
          "base_uri": "https://localhost:8080/"
        },
        "id": "4YTKY6kQG_ti",
        "outputId": "8845b31c-461f-456a-fc86-6bdb9229c03e"
      },
      "outputs": [
        {
          "name": "stdout",
          "output_type": "stream",
          "text": [
            "{'item1': 'apple', 'item2': 'banana', 'item3': 'cherry'}\n"
          ]
        }
      ],
      "source": [
        "coba_fungsi9(item1 = \"apple\", item2 = \"banana\", item3 = \"cherry\")"
      ]
    },
    {
      "cell_type": "code",
      "execution_count": null,
      "metadata": {
        "colab": {
          "base_uri": "https://localhost:8080/"
        },
        "id": "Qpj-_cddHBKX",
        "outputId": "46e9aa4f-ec25-4855-b95c-87c82f406a8d"
      },
      "outputs": [
        {
          "name": "stdout",
          "output_type": "stream",
          "text": [
            "item1: apple\n",
            "item2: banana\n",
            "item3: cherry\n"
          ]
        }
      ],
      "source": [
        "def coba_fungsi10(**kwargs):\n",
        "  for key in kwargs:\n",
        "    print(key + \": \" + kwargs[key])\n",
        "\n",
        "\n",
        "coba_fungsi10(item1 = \"apple\", item2 = \"banana\", item3 = \"cherry\")"
      ]
    },
    {
      "cell_type": "code",
      "execution_count": null,
      "metadata": {
        "colab": {
          "base_uri": "https://localhost:8080/"
        },
        "id": "d23aXcS9HDah",
        "outputId": "3e4e7883-3a73-4afb-fbc7-f8c3fe5b2568"
      },
      "outputs": [
        {
          "name": "stdout",
          "output_type": "stream",
          "text": [
            "nama: Dede\n",
            "jurusan: IT\n",
            "semester: 5\n"
          ]
        }
      ],
      "source": [
        "mahasiswa = {\"nama\": \"Dede\", \"jurusan\": \"IT\", \"semester\": \"5\"}\n",
        "\n",
        "def coba_fungsi11(**data_mhs):\n",
        "  for key in data_mhs:\n",
        "    print(key + \": \" + data_mhs[key])\n",
        "\n",
        "\n",
        "coba_fungsi11(**mahasiswa)"
      ]
    },
    {
      "cell_type": "markdown",
      "metadata": {
        "id": "tAYRIUljLwa1"
      },
      "source": [
        "## Nested Function (Closure)"
      ]
    },
    {
      "cell_type": "code",
      "execution_count": null,
      "metadata": {
        "id": "HwB5kjCOKWX1"
      },
      "outputs": [],
      "source": [
        "def hitung_rata_rata(nilai1, nilai2, nilai3):\n",
        "\n",
        "  def update_nilai():\n",
        "    update1 = nilai1 + 2\n",
        "    update2 = nilai2 + 3\n",
        "    update3 = nilai3 + 4\n",
        "    return update1, update2, update3\n",
        "\n",
        "  hasil = update_nilai()\n",
        "  return hasil\n"
      ]
    },
    {
      "cell_type": "code",
      "execution_count": null,
      "metadata": {
        "colab": {
          "base_uri": "https://localhost:8080/"
        },
        "id": "GH7vlrEFLTyN",
        "outputId": "28a9a70a-221e-4e9b-96c8-e5a1a8d47a6c"
      },
      "outputs": [
        {
          "name": "stdout",
          "output_type": "stream",
          "text": [
            "Hasil rata-rata:  (7, 13, 19)\n"
          ]
        }
      ],
      "source": [
        "a = 5\n",
        "b = 10\n",
        "c = 15\n",
        "\n",
        "rata_rata = hitung_rata_rata(a, b, c)\n",
        "print(\"Hasil rata-rata: \", rata_rata)"
      ]
    },
    {
      "cell_type": "markdown",
      "metadata": {
        "id": "g1iQ2Ra0MfVg"
      },
      "source": [
        "## Fungsi Default Parameter"
      ]
    },
    {
      "cell_type": "code",
      "execution_count": null,
      "metadata": {
        "colab": {
          "base_uri": "https://localhost:8080/"
        },
        "id": "DQXbLeKsMEDW",
        "outputId": "d4130895-74ca-427c-fb71-0a4465d180bb"
      },
      "outputs": [
        {
          "name": "stdout",
          "output_type": "stream",
          "text": [
            "Nama:  Dede\n",
            "Umur:  20\n"
          ]
        }
      ],
      "source": [
        "def coba_fungsi12(nama, umur=20):\n",
        "  print(\"Nama: \", nama)\n",
        "  print(\"Umur: \", umur)\n",
        "\n",
        "coba_fungsi12(\"Dede\")\n",
        "#argumen memiliki nilai bawaan"
      ]
    },
    {
      "cell_type": "markdown",
      "metadata": {
        "id": "7DItXyZ3XOW6"
      },
      "source": [
        "## Fungsi Kombinasi Arguments"
      ]
    },
    {
      "cell_type": "code",
      "execution_count": null,
      "metadata": {
        "colab": {
          "base_uri": "https://localhost:8080/"
        },
        "id": "nOveo-LjWqQK",
        "outputId": "fef2e894-7d02-4bac-baa5-274409173e44"
      },
      "outputs": [
        {
          "name": "stdout",
          "output_type": "stream",
          "text": [
            "message: hello world\n",
            "params: (1, True, (\"yesn't\", 'nope'))\n",
            "others: {'say_something': 'how are you', 'name': 'nokia 3310', 'discontinued': True, 'year_released': 2000}\n"
          ]
        }
      ],
      "source": [
        "def coba_fungsi13(message, *params,  **others):\n",
        "    print(f\"message: {message}\")\n",
        "    print(f\"params: {params}\")\n",
        "    print(f\"others: {others}\")\n",
        "\n",
        "coba_fungsi13(\"hello world\", 1, True, (\"yesn't\", \"nope\"), say_something=\"how are you\", name=\"nokia 3310\", discontinued=True, year_released=2000)"
      ]
    },
    {
      "cell_type": "markdown",
      "metadata": {
        "id": "ZA2lk1rPYXiw"
      },
      "source": [
        "## Fungsi dengan Matrix"
      ]
    },
    {
      "cell_type": "code",
      "execution_count": null,
      "metadata": {
        "id": "NVCQK8vdYZ7M"
      },
      "outputs": [],
      "source": [
        "def coba_fungsi14(matrix=[]):\n",
        "    if len(matrix) == 0:\n",
        "        print(\"[]\")\n",
        "\n",
        "    for item in matrix:\n",
        "        print(item)\n"
      ]
    },
    {
      "cell_type": "code",
      "execution_count": null,
      "metadata": {
        "colab": {
          "base_uri": "https://localhost:8080/"
        },
        "id": "uhlU5I5_Y5x5",
        "outputId": "788058c9-bd40-40d4-ecda-29f1475f360f"
      },
      "outputs": [
        {
          "name": "stdout",
          "output_type": "stream",
          "text": [
            "Output matrix 1:\n",
            "[]\n"
          ]
        }
      ],
      "source": [
        "print(\"Output matrix 1:\")\n",
        "coba_fungsi14()"
      ]
    },
    {
      "cell_type": "code",
      "execution_count": null,
      "metadata": {
        "colab": {
          "base_uri": "https://localhost:8080/"
        },
        "id": "6oskc_7xY_HO",
        "outputId": "85d341a3-631a-4cd5-fee5-1e73a0e83eac"
      },
      "outputs": [
        {
          "name": "stdout",
          "output_type": "stream",
          "text": [
            "Output matrix 2:\n",
            "[1, 2]\n",
            "[5, 6]\n"
          ]
        }
      ],
      "source": [
        "print(\"Output matrix 2:\")\n",
        "coba_fungsi14([\n",
        "    [1, 2],\n",
        "    [5, 6],\n",
        "])"
      ]
    },
    {
      "cell_type": "markdown",
      "metadata": {
        "id": "Zxucez2dasqC"
      },
      "source": [
        "## Fungsi dengan Agregator"
      ]
    },
    {
      "cell_type": "code",
      "execution_count": null,
      "metadata": {
        "id": "t-P2wE7bcJkP"
      },
      "outputs": [],
      "source": [
        "def aggregate(perintah, nilai, action):\n",
        "    res = action(nilai)\n",
        "    print(\"Hasil agregate\", perintah, \":\", res)\n",
        "\n",
        "#aggregate = sum, min, max"
      ]
    },
    {
      "cell_type": "code",
      "execution_count": null,
      "metadata": {
        "colab": {
          "base_uri": "https://localhost:8080/"
        },
        "id": "fRuXfpu1bEVE",
        "outputId": "ac7db5e9-b1cf-4936-d6e7-42e44af1b2dd"
      },
      "outputs": [
        {
          "name": "stdout",
          "output_type": "stream",
          "text": [
            "Hasil agregate total : 264\n"
          ]
        }
      ],
      "source": [
        "aggregate(\"total\", [24, 67, 22, 98, 3, 50], sum)"
      ]
    },
    {
      "cell_type": "code",
      "execution_count": null,
      "metadata": {
        "colab": {
          "base_uri": "https://localhost:8080/"
        },
        "id": "hJexc7AGcTRN",
        "outputId": "5ee1ec54-042c-478a-dcee-8d01d0f5de70"
      },
      "outputs": [
        {
          "name": "stdout",
          "output_type": "stream",
          "text": [
            "Hasil agregate Max : 98\n"
          ]
        }
      ],
      "source": [
        "aggregate(\"Max\", [24, 67, 22, 98, 3, 50], max)"
      ]
    },
    {
      "cell_type": "code",
      "execution_count": null,
      "metadata": {
        "colab": {
          "base_uri": "https://localhost:8080/"
        },
        "id": "kmDmzh2Vca4T",
        "outputId": "3157001e-2367-4081-bdca-95287cdb0b44"
      },
      "outputs": [
        {
          "name": "stdout",
          "output_type": "stream",
          "text": [
            "Hasil agregate Min : 3\n"
          ]
        }
      ],
      "source": [
        "aggregate(\"Min\", [24, 67, 22, 98, 3, 50], min) "
      ]
    },
    {
      "cell_type": "markdown",
      "metadata": {
        "id": "MI8_i6y0OZ94"
      },
      "source": [
        "## Soal 1\n",
        "\n",
        "Buatlah script “kalkulator” yang terdiri dari dua parameter “x” dan “y” yang akan diisi angka dan parameter “operasi” yang akan diisi nama operasi seperti “penjumlahan”, “pengurangan”, “perkalian” dan “pembagian”\n",
        "\n",
        "Input:\n",
        "kalkulator(a = 10, b = 4, operasi = “penjumlahan”)\n",
        "\n",
        "Output:\n",
        "14\n"
      ]
    },
    {
      "cell_type": "code",
      "execution_count": 2,
      "metadata": {},
      "outputs": [
        {
          "name": "stdout",
          "output_type": "stream",
          "text": [
            "Hasil dari :\n",
            "5 : 5 = 1.0\n"
          ]
        }
      ],
      "source": [
        "def kalkulator(x, y, operasi):\n",
        "    if operasi == \"+\":\n",
        "        return x + y\n",
        "    elif operasi == \"-\":\n",
        "        return x - y\n",
        "    elif operasi == \"x\":\n",
        "        return x * y\n",
        "    elif operasi == \":\":\n",
        "        if y != 0:\n",
        "            return x / y\n",
        "        else:\n",
        "            return \"Error: Pembagian dengan nol.\"\n",
        "    else:\n",
        "        return \"Error: Operasi tidak dikenal.\"\n",
        "\n",
        "#penggunaan\n",
        "x = int(input('Masukkan bilangan pertama : '))\n",
        "y = int(input('Masukkan bilangan kedua : '))\n",
        "operasi = (input('Masukkan operasi yang diinginkan (x ,+ ,- ,:) : '))\n",
        "hasil = kalkulator(x, y, operasi)\n",
        "if(type(hasil) == int or float):\n",
        "    print(f\"Hasil dari :\\n{x} {operasi} {y} = {hasil}\")\n",
        "else:\n",
        "    print(hasil)"
      ]
    },
    {
      "cell_type": "markdown",
      "metadata": {
        "id": "xoubsJWOHHy-"
      },
      "source": [
        "## Soal 2\n",
        "\n",
        "Buat lah 3 fungsi yang didalamnya terdapat :\n",
        "\n",
        "* conditional if\n",
        "* condition loop\n",
        "* args dan kwargs"
      ]
    },
    {
      "cell_type": "code",
      "execution_count": 1,
      "metadata": {},
      "outputs": [
        {
          "name": "stdout",
          "output_type": "stream",
          "text": [
            "---------------------------------------------\n",
            "5 adalah bilangan Ganjil\n",
            "---------------------------------------------\n",
            "5 bukan bilangan prima\n",
            "---------------------------------------------\n",
            "DAFTAR NILAI SISWA\n",
            "---\n",
            "Nama \t\t : Deswita\n",
            "Kelas \t\t : 9A\n",
            "No.Induk \t : 1928129387\n",
            "---\n",
            "Matematika \t : 90\n",
            "Bhs_Indonesia \t : 65\n",
            "Bhs_Inggris \t : 40\n"
          ]
        }
      ],
      "source": [
        "def cekGanjilGenap(x): #conditional function\n",
        "    if(x % 2 > 0):\n",
        "        return 'Ganjil'\n",
        "    else:\n",
        "        return 'Genap'\n",
        "def bilanganPrima(angka): #conditional looping\n",
        "    for x in (2, angka):\n",
        "        if(x % angka == 0):\n",
        "            return 'adalah bilangan prima'\n",
        "        else:\n",
        "            return 'bukan bilangan prima'\n",
        "def rapotSekolah(*identitas, **daftarNilai):\n",
        "    print('DAFTAR NILAI SISWA')\n",
        "    print('---')\n",
        "    print('Nama \\t\\t :', identitas[0]) #pemanggilan argumen identias\n",
        "    print('Kelas \\t\\t :', identitas[1])\n",
        "    print('No.Induk \\t :', identitas[2])\n",
        "    print('---')\n",
        "    for key in daftarNilai:\n",
        "        mapel = key\n",
        "        nilai = daftarNilai[key]\n",
        "        print(f'{key} \\t : {daftarNilai[key]}')\n",
        "\n",
        "\n",
        "\n",
        "print('---------------------------------------------')\n",
        "x = int(input('Masukkan sebuah bilangan : '))\n",
        "hasil = cekGanjilGenap(x)\n",
        "print(f'{x} adalah bilangan {hasil}')\n",
        "print('---------------------------------------------')\n",
        "hasilP = bilanganPrima(x)\n",
        "print(f'{x} {hasilP}')\n",
        "print('---------------------------------------------')\n",
        "rapotSekolah('Deswita','9A','1928129387',Matematika=90, Bhs_Indonesia=65, Bhs_Inggris=40, )"
      ]
    },
    {
      "cell_type": "markdown",
      "metadata": {
        "id": "yOk8VeDdHFkF"
      },
      "source": [
        "## Soal 3\n",
        "\n",
        "Fungsi dengan argument kenapa hasilnya 103?"
      ]
    },
    {
      "cell_type": "code",
      "execution_count": 20,
      "metadata": {},
      "outputs": [
        {
          "name": "stdout",
          "output_type": "stream",
          "text": [
            "Hasil penjumlahan:  103\n"
          ]
        }
      ],
      "source": [
        "hasil_nilai = coba_fungsi4(input(\"masukkan nilai 1 = \"), input(\"masukkan nilai 2= \"))\n",
        "print(\"Hasil penjumlahan: \", hasil_nilai)\n",
        "#masukkan nilai 1 = 10\n",
        "#masukkan nilai 2 = 3\n",
        "#10 ditambah 3 tetapi hasilnya 103 karna data type nya string, data type string tidak bisa untuk aritmatika"
      ]
    }
  ],
  "metadata": {
    "colab": {
      "provenance": [],
      "toc_visible": true
    },
    "kernelspec": {
      "display_name": "Python 3",
      "name": "python3"
    },
    "language_info": {
      "codemirror_mode": {
        "name": "ipython",
        "version": 3
      },
      "file_extension": ".py",
      "mimetype": "text/x-python",
      "name": "python",
      "nbconvert_exporter": "python",
      "pygments_lexer": "ipython3",
      "version": "3.9.6"
    }
  },
  "nbformat": 4,
  "nbformat_minor": 0
}
