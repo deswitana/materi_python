{
 "cells": [
  {
   "cell_type": "code",
   "execution_count": 16,
   "metadata": {},
   "outputs": [
    {
     "name": "stdout",
     "output_type": "stream",
     "text": [
      "1. Pendapatan Budi selama libur musim panas sebelum melakukan pembayaran pajak: Rp 2800000\n",
      "2. Pendapatan Budi selama libur musim panas setelah melakukan pembayaran pajak: Rp 2408000.0\n",
      "3. Jumlah uang yang akan Budi habiskan untuk membeli pakaian dan aksesoris: Rp 240800.0\n",
      "4. Jumlah uang yang akan Budi habiskan untuk membeli alat tulis: Rp 24080.0\n",
      "5. Jumlah uang yang akan Budi sedekahkan: Rp 535780.0\n",
      "6. Jumlah uang yang akan diterima anak yatim: Rp 160734.0\n",
      "7. Jumlah uang yang akan diterima kaum dhuafa: Rp 375046.0\n"
     ]
    }
   ],
   "source": [
    "jam_kerja = 8\n",
    "hari_kerja = 7\n",
    "minggu = 5\n",
    "gaji_jam = 10000\n",
    "\n",
    "sebelum_pajak = jam_kerja * hari_kerja * minggu * gaji_jam\n",
    "print(\"1. Pendapatan Budi selama libur musim panas sebelum melakukan pembayaran pajak: Rp\", sebelum_pajak)\n",
    "\n",
    "setelah_pajak = sebelum_pajak - (0.14 * sebelum_pajak)\n",
    "print(\"2. Pendapatan Budi selama libur musim panas setelah melakukan pembayaran pajak: Rp\", setelah_pajak)\n",
    "\n",
    "pakaian = setelah_pajak * 0.10\n",
    "print(\"3. Jumlah uang yang akan Budi habiskan untuk membeli pakaian dan aksesoris: Rp\", pakaian)\n",
    "\n",
    "alat_tulis = setelah_pajak * 0.01\n",
    "print(\"4. Jumlah uang yang akan Budi habiskan untuk membeli alat tulis: Rp\", alat_tulis)\n",
    "\n",
    "sisa_uang_setelah_belanja = setelah_pajak - (pakaian + alat_tulis)\n",
    "\n",
    "sedekah = sisa_uang_setelah_belanja * 0.25\n",
    "print(\"5. Jumlah uang yang akan Budi sedekahkan: Rp\", sedekah)\n",
    "\n",
    "uang_anak_yatim = sedekah * 0.30\n",
    "print(\"6. Jumlah uang yang akan diterima anak yatim: Rp\", uang_anak_yatim)\n",
    "\n",
    "uang_kaum_dhuafa = jumlah_sedekah * 0.70\n",
    "print(\"7. Jumlah uang yang akan diterima kaum dhuafa: Rp\", uang_kaum_dhuafa)"
   ]
  }
 ],
 "metadata": {
  "kernelspec": {
   "display_name": "base",
   "language": "python",
   "name": "python3"
  },
  "language_info": {
   "codemirror_mode": {
    "name": "ipython",
    "version": 3
   },
   "file_extension": ".py",
   "mimetype": "text/x-python",
   "name": "python",
   "nbconvert_exporter": "python",
   "pygments_lexer": "ipython3",
   "version": "3.12.4"
  }
 },
 "nbformat": 4,
 "nbformat_minor": 2
}
